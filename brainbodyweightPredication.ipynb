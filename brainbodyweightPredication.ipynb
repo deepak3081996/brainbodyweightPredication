{
 "cells": [
  {
   "cell_type": "code",
   "execution_count": 18,
   "metadata": {
    "collapsed": true
   },
   "outputs": [],
   "source": [
    "# -*- coding: utf-8 -*-\n",
    "\n",
    "#Importing the libraries\n",
    "import numpy as np\n",
    "import matplotlib.pyplot as plt"
   ]
  },
  {
   "cell_type": "code",
   "execution_count": 19,
   "metadata": {
    "collapsed": true
   },
   "outputs": [],
   "source": [
    "# Importing the dataset\n",
    "with open('brainbodyweight.txt','r') as fptr:\n",
    "    \n",
    "    line = fptr.readline()\n",
    "    l1 = []\n",
    "    noOfColumns = 0\n",
    "    noOfRows = 0\n",
    "    \n",
    "    while line:    \n",
    "        if line[0] == '#':\n",
    "            line = fptr.readline()\n",
    "            continue\n",
    "            \n",
    "        if line[0] != '#' and (noOfColumns==0 or noOfRows==0):\n",
    "            datalist = line[:-1].split(' ')\n",
    "\n",
    "            if datalist[1] == 'columns':\n",
    "                noOfColumns = int(datalist[0])\n",
    "                col = 0\n",
    "            \n",
    "            elif datalist[1] == 'rows':\n",
    "                noOfRows = int(datalist[0])\n",
    "                row = 0\n",
    "\n",
    "        elif line[0] != '#' and noOfColumns>0 and noOfRows>0:\n",
    "            datalist = line[:-1].strip().split()\n",
    "\n",
    "            if col<noOfColumns:\n",
    "                l1.append(' '.join(datalist))\n",
    "                col += 1\n",
    "\n",
    "            elif row<noOfRows:\n",
    "                l1 += datalist\n",
    "                row += 1       \n",
    "\n",
    "        line = fptr.readline()\n",
    "\n",
    "dataset = np.array([l1]).reshape((noOfRows+1,noOfColumns))\n",
    "X = dataset[1:,1].astype('float64')\n",
    "y = dataset[1:,2].astype('float64')\n"
   ]
  },
  {
   "cell_type": "code",
   "execution_count": 20,
   "metadata": {
    "collapsed": true
   },
   "outputs": [],
   "source": [
    "# Splitting the dataset into training and testing set\n",
    "from sklearn.model_selection import train_test_split\n",
    "X_train, X_test, y_train, y_test = train_test_split(X, y, test_size= 0.3, random_state=42)\n"
   ]
  },
  {
   "cell_type": "code",
   "execution_count": 21,
   "metadata": {
    "collapsed": true
   },
   "outputs": [],
   "source": [
    "# Feature Scaling\n",
    "from  sklearn.preprocessing import StandardScaler\n",
    "sc_X = StandardScaler()\n",
    "X_train_scaled = sc_X.fit_transform(X_train.reshape(-1,1))\n",
    "X_test_scaled = sc_X.transform(X_test.reshape(-1,1))\n",
    "\n",
    "sc_y = StandardScaler()\n",
    "y_train_scaled = sc_y.fit_transform(y_train.reshape(-1,1))\n"
   ]
  },
  {
   "cell_type": "code",
   "execution_count": 22,
   "metadata": {},
   "outputs": [
    {
     "data": {
      "text/plain": [
       "LinearRegression(copy_X=True, fit_intercept=True, n_jobs=1, normalize=False)"
      ]
     },
     "execution_count": 22,
     "metadata": {},
     "output_type": "execute_result"
    }
   ],
   "source": [
    "# fitting Simple Linear Regression to the training set\n",
    "from sklearn.linear_model import LinearRegression\n",
    "linearRegressor = LinearRegression()\n",
    "linearRegressor.fit(X_train_scaled, y_train_scaled)\n"
   ]
  },
  {
   "cell_type": "code",
   "execution_count": 23,
   "metadata": {
    "collapsed": true
   },
   "outputs": [],
   "source": [
    "# predicting the test set results \n",
    "y_pred = linearRegressor.predict(X_test_scaled)"
   ]
  },
  {
   "cell_type": "code",
   "execution_count": 24,
   "metadata": {},
   "outputs": [
    {
     "data": {
      "image/png": "[encoded data removed]",
      "text/plain": [
       "<matplotlib.figure.Figure at 0x20a6ad49a58>"
      ]
     },
     "metadata": {},
     "output_type": "display_data"
    }
   ],
   "source": [
    "# Visualising the training set results\n",
    "plt.scatter(X_train, y_train, color='red')\n",
    "plt.plot(X_train, linearRegressor.predict(X_train.reshape(-1,1)), color='blue')\n",
    "plt.title('Brain Weight vs Body Weight (training set)')\n",
    "plt.xlabel('Brain Weight')\n",
    "plt.ylabel('Body Weight')\n",
    "plt.show()"
   ]
  },
  {
   "cell_type": "code",
   "execution_count": 25,
   "metadata": {},
   "outputs": [
    {
     "data": {
      "image/png": "[encoded data removed]",
      "text/plain": [
       "<matplotlib.figure.Figure at 0x20a6adb0588>"
      ]
     },
     "metadata": {},
     "output_type": "display_data"
    }
   ],
   "source": [
    "# Visualising the test set results\n",
    "plt.scatter(X_test, y_test, color='red')\n",
    "plt.plot(X_train, linearRegressor.predict(X_train.reshape(-1,1)), color='blue')\n",
    "plt.title('Brain Weight vs Body Weight (test set)')\n",
    "plt.xlabel('Brain Weight')\n",
    "plt.ylabel('Body Weight')\n",
    "plt.show()"
   ]
  },
  {
   "cell_type": "code",
   "execution_count": null,
   "metadata": {
    "collapsed": true
   },
   "outputs": [],
   "source": []
  }
 ],
 "metadata": {
  "kernelspec": {
   "display_name": "Python 3",
   "language": "python",
   "name": "python3"
  },
  "language_info": {
   "codemirror_mode": {
    "name": "ipython",
    "version": 3
   },
   "file_extension": ".py",
   "mimetype": "text/x-python",
   "name": "python",
   "nbconvert_exporter": "python",
   "pygments_lexer": "ipython3",
   "version": "3.5.3"
  }
 },
 "nbformat": 4,
 "nbformat_minor": 2
}
